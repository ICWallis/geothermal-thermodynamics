{
 "cells": [
  {
   "cell_type": "markdown",
   "source": [
    "# Pressure (P) Temperature (T) and Enthalpy (H) Calculations\n",
    "\n",
    "Using the [chemicals package](https://chemicals.readthedocs.io/) to calculate the properties of pure water\n",
    "\n",
    "The chemicals package uses SI units \n",
    "\n",
    "Pressure is in Pascals (Pa)\n",
    "- 1.e6 Pa = 1 Mega Pascal (MPa)\n",
    "- 1.e5 Pa = 1 bar\n",
    "\n",
    "Temperature is Kelvin\n",
    "- Degrees celsius = Kelvin - 273.15"
   ],
   "metadata": {}
  },
  {
   "cell_type": "code",
   "execution_count": 3,
   "source": [
    "from chemicals import iapws"
   ],
   "outputs": [],
   "metadata": {}
  },
  {
   "cell_type": "code",
   "execution_count": 4,
   "source": [
    "# For a given pressure, calculate the saturation temperature in degrees celsius\n",
    "\n",
    "P_Pa = 30.e5 # 30 bar\n",
    "Tsat_degC = iapws.iapws95_Tsat(P_Pa) - 273.15\n",
    "print(Tsat_degC)"
   ],
   "outputs": [
    {
     "output_type": "stream",
     "name": "stdout",
     "text": [
      "233.8531066722141\n"
     ]
    }
   ],
   "metadata": {}
  },
  {
   "cell_type": "code",
   "execution_count": 5,
   "source": [
    "# For a given temperature, calculate the saturation pressure in bar\n",
    "\n",
    "T_degC = 233.8531066722141\n",
    "T_K = T_degC + 273.15\n",
    "Psat_bar = iapws.iapws95_Psat(T_K) / 1.e5\n",
    "print(Psat_bar)"
   ],
   "outputs": [
    {
     "output_type": "stream",
     "name": "stdout",
     "text": [
      "30.0\n"
     ]
    }
   ],
   "metadata": {}
  },
  {
   "cell_type": "code",
   "execution_count": null,
   "source": [
    "# For a given temperature - pressure pair, calculate enthalpy\n"
   ],
   "outputs": [],
   "metadata": {}
  }
 ],
 "metadata": {
  "orig_nbformat": 4,
  "language_info": {
   "name": "python",
   "version": "3.8.8",
   "mimetype": "text/x-python",
   "codemirror_mode": {
    "name": "ipython",
    "version": 3
   },
   "pygments_lexer": "ipython3",
   "nbconvert_exporter": "python",
   "file_extension": ".py"
  },
  "kernelspec": {
   "name": "python3",
   "display_name": "Python 3.8.8 64-bit ('base': conda)"
  },
  "interpreter": {
   "hash": "dca0ade3e726a953b501b15e8e990130d2b7799f14cfd9f4271676035ebe5511"
  }
 },
 "nbformat": 4,
 "nbformat_minor": 2
}