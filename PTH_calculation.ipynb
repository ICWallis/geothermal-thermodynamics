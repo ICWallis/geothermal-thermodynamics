{
 "cells": [
  {
   "cell_type": "markdown",
   "source": [
    "# Pressure (P) Temperature (T) and Enthalpy (H) Calculations\n",
    "\n",
    "Using the [chemicals package](https://chemicals.readthedocs.io/) to calculate the properties of pure water"
   ],
   "metadata": {}
  },
  {
   "cell_type": "code",
   "execution_count": 11,
   "source": [
    "from chemicals import iapws"
   ],
   "outputs": [],
   "metadata": {}
  },
  {
   "cell_type": "code",
   "execution_count": 18,
   "source": [
    "# The chemicals package uses SI units \n",
    "\n",
    "# Pa for pressure\n",
    "# 1.e6 Pa = 1 MPa\n",
    "# 1.e5 Pa = 1 bar\n",
    "\n",
    "# K for temperature\n",
    "# degC = Kelvin - 273.15\n",
    "\n",
    "# Calculate the saturation temperature in degrees celsius\n",
    "# Result is rounded to 2 decimal places \n",
    "P = 30.e5 # 30 bar\n",
    "Tsat = round(iapws.iapws95_Tsat(P) - 273.15, 2)\n",
    "print(Tsat)"
   ],
   "outputs": [
    {
     "output_type": "stream",
     "name": "stdout",
     "text": [
      "233.85\n"
     ]
    }
   ],
   "metadata": {}
  },
  {
   "cell_type": "code",
   "execution_count": null,
   "source": [],
   "outputs": [],
   "metadata": {}
  }
 ],
 "metadata": {
  "orig_nbformat": 4,
  "language_info": {
   "name": "python",
   "version": "3.8.8",
   "mimetype": "text/x-python",
   "codemirror_mode": {
    "name": "ipython",
    "version": 3
   },
   "pygments_lexer": "ipython3",
   "nbconvert_exporter": "python",
   "file_extension": ".py"
  },
  "kernelspec": {
   "name": "python3",
   "display_name": "Python 3.8.8 64-bit ('base': conda)"
  },
  "interpreter": {
   "hash": "dca0ade3e726a953b501b15e8e990130d2b7799f14cfd9f4271676035ebe5511"
  }
 },
 "nbformat": 4,
 "nbformat_minor": 2
}