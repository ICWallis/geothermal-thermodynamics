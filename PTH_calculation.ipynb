{
 "cells": [
  {
   "cell_type": "markdown",
   "source": [
    "# Pressure (P) Temperature (T) and Enthalpy (H) Calculations\n",
    "\n",
    "Using the [chemicals package](https://chemicals.readthedocs.io/) to calculate the properties of pure water"
   ],
   "metadata": {}
  },
  {
   "cell_type": "code",
   "execution_count": null,
   "source": [],
   "outputs": [],
   "metadata": {}
  }
 ],
 "metadata": {
  "orig_nbformat": 4,
  "language_info": {
   "name": "python"
  }
 },
 "nbformat": 4,
 "nbformat_minor": 2
}