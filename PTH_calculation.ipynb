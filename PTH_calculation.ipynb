{
 "cells": [
  {
   "cell_type": "markdown",
   "source": [
    "# Pressure (P) Temperature (T) and Enthalpy (H) Calculations\n",
    "\n",
    "These methods use the [chemicals package](https://chemicals.readthedocs.io/) to calculate the properties of pure water\n",
    "\n",
    "The chemicals package uses SI units... \n",
    "\n",
    "so the pressure is in Pascals (Pa)\n",
    "- 1.e6 Pa = 1 Mega Pascal (MPa)\n",
    "- 1.e5 Pa = 1 bar\n",
    "\n",
    "and the temperature is Kelvin\n",
    "- Degrees celsius = Kelvin - 273.15"
   ],
   "metadata": {}
  },
  {
   "cell_type": "code",
   "execution_count": 1,
   "source": [
    "from chemicals import iapws"
   ],
   "outputs": [],
   "metadata": {}
  },
  {
   "cell_type": "code",
   "execution_count": 20,
   "source": [
    "# For a given pressure, calculate the saturation temperature in degrees celsius\n",
    "\n",
    "P_Pa = 30.e5 # 30 bar\n",
    "Tsat_C = iapws.iapws95_Tsat(P_Pa) - 273.15\n",
    "print(Tsat_C)"
   ],
   "outputs": [
    {
     "output_type": "stream",
     "name": "stdout",
     "text": [
      "233.8531066722141\n"
     ]
    }
   ],
   "metadata": {}
  },
  {
   "cell_type": "code",
   "execution_count": 21,
   "source": [
    "# For a given temperature, calculate the saturation pressure in bar\n",
    "\n",
    "# We are using the saturation temperature from cell above\n",
    "# converting it to Kelvin for the method\n",
    "# the result is in Pa and divided here by 1.e5 to convert to bar\n",
    "\n",
    "T_K = Tsat_C + 273.15 \n",
    "Psat_bar = iapws.iapws95_Psat(T_K) / 1.e5\n",
    "\n",
    "print(Psat_bar)"
   ],
   "outputs": [
    {
     "output_type": "stream",
     "name": "stdout",
     "text": [
      "30.0\n"
     ]
    }
   ],
   "metadata": {}
  },
  {
   "cell_type": "code",
   "execution_count": 22,
   "source": [
    "# For a given temperature - pressure pair, calculate enthalpy\n",
    "\n",
    "# The fluid properties function returns a tuple \n",
    "# https://chemicals.readthedocs.io/chemicals.iapws.html#iapws-95-properties\n",
    "# This method assigns the entire set of properties to an object \n",
    "# and then only calls the enthalpy (H), which is the forth item in the tuple\n",
    "# enthalpy SI of J/kg is converted to kJ/kg\n",
    "\n",
    "properties = iapws.iapws95_properties(T=T_K, P=P_Pa)\n",
    "H_kJpkg = properties[3] * 1.e-3\n",
    "print(H_kJpkg)"
   ],
   "outputs": [
    {
     "output_type": "stream",
     "name": "stdout",
     "text": [
      "1008.3446136242503\n"
     ]
    }
   ],
   "metadata": {}
  },
  {
   "cell_type": "code",
   "execution_count": 26,
   "source": [
    "T_C = 300\n",
    "P_MPa = 4\n",
    "\n",
    "properties = iapws.iapws95_properties(T=T_C + 273.15, P=P_MPa * 1.e6)\n",
    "H_kJpkg = properties[3] * 1.e-3\n",
    "print(H_kJpkg)"
   ],
   "outputs": [
    {
     "output_type": "stream",
     "name": "stdout",
     "text": [
      "2961.6920140102884\n"
     ]
    }
   ],
   "metadata": {}
  },
  {
   "cell_type": "code",
   "execution_count": null,
   "source": [],
   "outputs": [],
   "metadata": {}
  }
 ],
 "metadata": {
  "orig_nbformat": 4,
  "language_info": {
   "name": "python",
   "version": "3.8.8",
   "mimetype": "text/x-python",
   "codemirror_mode": {
    "name": "ipython",
    "version": 3
   },
   "pygments_lexer": "ipython3",
   "nbconvert_exporter": "python",
   "file_extension": ".py"
  },
  "kernelspec": {
   "name": "python3",
   "display_name": "Python 3.8.8 64-bit ('base': conda)"
  },
  "interpreter": {
   "hash": "dca0ade3e726a953b501b15e8e990130d2b7799f14cfd9f4271676035ebe5511"
  }
 },
 "nbformat": 4,
 "nbformat_minor": 2
}